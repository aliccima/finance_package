{
 "cells": [
  {
   "cell_type": "code",
   "execution_count": 1,
   "id": "4da02fb3",
   "metadata": {
    "colab": {
     "base_uri": "https://localhost:8080/"
    },
    "id": "4da02fb3",
    "outputId": "6720a104-8bc2-4236-b006-631ad3e140d2"
   },
   "outputs": [
    {
     "name": "stdout",
     "output_type": "stream",
     "text": [
      "Collecting git+https://github.com/aliccima/finance_package.git\n",
      "  Cloning https://github.com/aliccima/finance_package.git to /tmp/pip-req-build-wrgo73sl\n",
      "  Running command git clone --filter=blob:none --quiet https://github.com/aliccima/finance_package.git /tmp/pip-req-build-wrgo73sl\n",
      "  Resolved https://github.com/aliccima/finance_package.git to commit 039a19ad967bffc337065da23e25d9ce44da8c32\n",
      "  Installing build dependencies ... \u001b[?25l\u001b[?25hdone\n",
      "  Getting requirements to build wheel ... \u001b[?25l\u001b[?25hdone\n",
      "  Preparing metadata (pyproject.toml) ... \u001b[?25l\u001b[?25hdone\n",
      "Requirement already satisfied: numpy<2.0.0,>=1.26.4 in /usr/local/lib/python3.10/dist-packages (from finance-package==0.1.0) (1.26.4)\n",
      "Requirement already satisfied: requests<3.0,>=2.31 in /usr/local/lib/python3.10/dist-packages (from finance-package==0.1.0) (2.31.0)\n",
      "Requirement already satisfied: scipy<2.0.0,>=1.13.1 in /usr/local/lib/python3.10/dist-packages (from finance-package==0.1.0) (1.13.1)\n",
      "Requirement already satisfied: charset-normalizer<4,>=2 in /usr/local/lib/python3.10/dist-packages (from requests<3.0,>=2.31->finance-package==0.1.0) (3.3.2)\n",
      "Requirement already satisfied: idna<4,>=2.5 in /usr/local/lib/python3.10/dist-packages (from requests<3.0,>=2.31->finance-package==0.1.0) (3.7)\n",
      "Requirement already satisfied: urllib3<3,>=1.21.1 in /usr/local/lib/python3.10/dist-packages (from requests<3.0,>=2.31->finance-package==0.1.0) (2.0.7)\n",
      "Requirement already satisfied: certifi>=2017.4.17 in /usr/local/lib/python3.10/dist-packages (from requests<3.0,>=2.31->finance-package==0.1.0) (2024.6.2)\n"
     ]
    }
   ],
   "source": [
    "pip install git+https://github.com/aliccima/finance_package.git"
   ]
  },
  {
   "cell_type": "code",
   "execution_count": 2,
   "id": "f140d429-0b33-4620-bcd3-6a609de46570",
   "metadata": {
    "id": "f140d429-0b33-4620-bcd3-6a609de46570"
   },
   "outputs": [],
   "source": [
    "from finance_package import FinanceModels"
   ]
  },
  {
   "cell_type": "markdown",
   "id": "b709fd19",
   "metadata": {},
   "source": [
    "Connect to our database server API to retrieve required data:"
   ]
  },
  {
   "cell_type": "code",
   "execution_count": 3,
   "id": "c24b09a0",
   "metadata": {
    "id": "c24b09a0"
   },
   "outputs": [],
   "source": [
    "finance_models = FinanceModels(\"http://finance-project.mooo.com/api\")"
   ]
  },
  {
   "cell_type": "markdown",
   "id": "360cc55a",
   "metadata": {
    "id": "360cc55a"
   },
   "source": [
    "# Models"
   ]
  },
  {
   "cell_type": "markdown",
   "id": "b2bca330",
   "metadata": {
    "id": "b2bca330"
   },
   "source": [
    "## Apple CAPM\n",
    "Calculate the CAPM alpha value for Apple stocks:"
   ]
  },
  {
   "cell_type": "code",
   "execution_count": 4,
   "id": "b276648c",
   "metadata": {
    "colab": {
     "base_uri": "https://localhost:8080/"
    },
    "id": "b276648c",
    "outputId": "1845151f-640f-4276-bd76-555fba726481"
   },
   "outputs": [
    {
     "data": {
      "text/plain": [
       "-24711.35375714302"
      ]
     },
     "execution_count": 4,
     "metadata": {},
     "output_type": "execute_result"
    }
   ],
   "source": [
    "finance_models.CAPM(\"AAPL\")"
   ]
  },
  {
   "cell_type": "markdown",
   "id": "ed8256d1",
   "metadata": {
    "id": "ed8256d1"
   },
   "source": [
    "## Tesla call and put option prices\n",
    "Calculate the Black-Scholes option price for a call and put option for Tesla:"
   ]
  },
  {
   "cell_type": "code",
   "execution_count": 5,
   "id": "72c5d3f2",
   "metadata": {
    "colab": {
     "base_uri": "https://localhost:8080/"
    },
    "id": "72c5d3f2",
    "outputId": "613dfd5b-eb28-4f78-fdf2-d2d5aa4df599"
   },
   "outputs": [
    {
     "data": {
      "text/plain": [
       "184.22078145283467"
      ]
     },
     "execution_count": 5,
     "metadata": {},
     "output_type": "execute_result"
    }
   ],
   "source": [
    "strike_price = 120\n",
    "time_to_maturity = 1\n",
    "finance_models.Black_Scholes(\"TSLA\", \"call\", strike_price, time_to_maturity)"
   ]
  },
  {
   "cell_type": "code",
   "execution_count": 6,
   "id": "6ebeda97",
   "metadata": {
    "colab": {
     "base_uri": "https://localhost:8080/"
    },
    "id": "6ebeda97",
    "outputId": "e3ad111c-7660-4655-f62b-6a716b371dca"
   },
   "outputs": [
    {
     "data": {
      "text/plain": [
       "1.02666016739901e-19"
      ]
     },
     "execution_count": 6,
     "metadata": {},
     "output_type": "execute_result"
    }
   ],
   "source": [
    "strike_price = 100\n",
    "time_to_maturity = 0.5\n",
    "finance_models.Black_Scholes(\"TSLA\", \"put\", strike_price, time_to_maturity)"
   ]
  },
  {
   "cell_type": "markdown",
   "id": "8beda32c",
   "metadata": {
    "id": "8beda32c"
   },
   "source": [
    "## Netflix Value at Risk\n",
    "Calculate the Value at Risk for Netflix using the historical simulation method:"
   ]
  },
  {
   "cell_type": "code",
   "execution_count": 7,
   "id": "b68be659",
   "metadata": {
    "colab": {
     "base_uri": "https://localhost:8080/"
    },
    "id": "b68be659",
    "outputId": "890653f7-54a8-4725-9f5c-15aab6effb74"
   },
   "outputs": [
    {
     "data": {
      "text/plain": [
       "0.019993942053199227"
      ]
     },
     "execution_count": 7,
     "metadata": {},
     "output_type": "execute_result"
    }
   ],
   "source": [
    "finance_models.historical_simulation(\"NFLX\", confidence_level=0.90)"
   ]
  }
 ],
 "metadata": {
  "colab": {
   "provenance": []
  },
  "kernelspec": {
   "display_name": "Python 3 (ipykernel)",
   "language": "python",
   "name": "python3"
  },
  "language_info": {
   "codemirror_mode": {
    "name": "ipython",
    "version": 3
   },
   "file_extension": ".py",
   "mimetype": "text/x-python",
   "name": "python",
   "nbconvert_exporter": "python",
   "pygments_lexer": "ipython3",
   "version": "3.11.9"
  }
 },
 "nbformat": 4,
 "nbformat_minor": 5
}
